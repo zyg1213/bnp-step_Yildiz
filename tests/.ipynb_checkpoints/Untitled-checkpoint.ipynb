{
 "cells": [
  {
   "cell_type": "code",
   "execution_count": 7,
   "id": "7c3fa55f",
   "metadata": {},
   "outputs": [],
   "source": [
    "import numpy as np\n",
    "import matplotlib.pyplot as plt\n",
    "import pickle"
   ]
  },
  {
   "cell_type": "code",
   "execution_count": 17,
   "id": "6306a611",
   "metadata": {},
   "outputs": [],
   "source": [
    "# pickle.load('250713-123520_M4_11757_fiona_sample.pkl')\n",
    "\n",
    "with open('250713-123520_M4_11757_fiona_sample.pkl', 'rb') as f:\n",
    "    data = pickle.load(f)\n",
    "\n",
    "with open('250713-144052_M10_127294_fiona_sample.pkl', 'rb') as f:\n",
    "    data2 = pickle.load(f)"
   ]
  },
  {
   "cell_type": "code",
   "execution_count": 9,
   "id": "e8955a3e",
   "metadata": {},
   "outputs": [
    {
     "data": {
      "text/plain": [
       "{'b_m': array([[0, 0, 0, ..., 0, 0, 0],\n",
       "        [0, 0, 0, ..., 1, 0, 0],\n",
       "        [0, 0, 0, ..., 1, 0, 0],\n",
       "        ...,\n",
       "        [1, 0, 0, ..., 1, 0, 0],\n",
       "        [1, 0, 0, ..., 1, 0, 0],\n",
       "        [1, 0, 0, ..., 1, 0, 0]], dtype=int32),\n",
       " 'h_m': array([[ -16.63591335,    7.52171787,   17.70857063, ...,  -65.43948341,\n",
       "           51.60573362,  -36.82954133],\n",
       "        [   0.94868769, -112.19705861,   20.92548441, ...,  -43.50568433,\n",
       "          -53.31720214,   84.52544623],\n",
       "        [ 101.19053299,  -49.14462194,   10.18096856, ...,  -31.5246401 ,\n",
       "          -16.9106302 ,   60.13533729],\n",
       "        ...,\n",
       "        [ -10.02377612,   56.1958707 ,  -45.13284674, ...,  -23.53064822,\n",
       "           17.8634024 ,  -17.72837956],\n",
       "        [  -9.09837073,  -24.15168918,   21.61260124, ...,  -24.88105714,\n",
       "          -34.69419763,    2.76017523],\n",
       "        [ -10.37370891,  -17.9996409 ,  -34.7132564 , ...,  -24.49595091,\n",
       "          -69.93198825,  -49.06439981]]),\n",
       " 't_m': array([[229.46445, 229.14998, 229.47003, ..., 229.88123, 229.04987,\n",
       "         229.10445],\n",
       "        [229.56972, 229.31837, 229.3201 , ..., 229.43051, 229.48163,\n",
       "         229.70679],\n",
       "        [229.34242, 229.83528, 229.39355, ..., 229.43051, 229.34886,\n",
       "         229.36005],\n",
       "        ...,\n",
       "        [229.4361 , 229.28958, 229.62386, ..., 229.41676, 229.49065,\n",
       "         229.20367],\n",
       "        [229.4361 , 229.43266, 230.16516, ..., 229.41676, 230.16431,\n",
       "         229.98651],\n",
       "        [229.4361 , 229.91174, 229.55597, ..., 229.41676, 229.61484,\n",
       "         229.44684]]),\n",
       " 'F_bg': array([-73.9419229 , 113.42089617, 110.10525953, ..., 109.39744985,\n",
       "        109.02141594, 109.28689258]),\n",
       " 'eta': array([1.41347352e-118, 6.15329650e-005, 1.08537625e-002, ...,\n",
       "        7.13580340e-002, 7.42266180e-002, 7.38369155e-002]),\n",
       " 'posterior': array([-383161.5761773 ,  -17140.67536586,  -10575.82892323, ...,\n",
       "          -8722.04599193,   -8711.50170013,   -8720.954017  ])}"
      ]
     },
     "execution_count": 9,
     "metadata": {},
     "output_type": "execute_result"
    }
   ],
   "source": [
    "data"
   ]
  },
  {
   "cell_type": "code",
   "execution_count": 19,
   "id": "cef5290f",
   "metadata": {},
   "outputs": [
    {
     "data": {
      "text/plain": [
       "{'b_m': array([[0, 0, 0, ..., 0, 0, 0],\n",
       "        [0, 0, 0, ..., 0, 0, 0],\n",
       "        [0, 0, 0, ..., 0, 0, 0],\n",
       "        ...,\n",
       "        [1, 1, 0, ..., 0, 0, 0],\n",
       "        [1, 1, 0, ..., 0, 0, 0],\n",
       "        [1, 1, 0, ..., 0, 0, 0]], dtype=int32),\n",
       " 'h_m': array([[ -67.33923762,   18.8198939 ,    5.08340393, ...,  -81.73006591,\n",
       "         -120.24791702,   60.2453921 ],\n",
       "        [ -27.88146404, -156.5724215 ,   10.46137461, ...,    4.60670126,\n",
       "           35.42715168,  -46.81788595],\n",
       "        [  46.53982122,  -20.43309125,  -46.25922456, ...,   99.66700167,\n",
       "           36.61887905,  -23.13639277],\n",
       "        ...,\n",
       "        [  -0.82237432,  -16.7711461 ,  -41.65039994, ...,   28.17989723,\n",
       "         -154.0768009 ,  103.79454462],\n",
       "        [  -0.76698144,  -15.90938312,  147.47911321, ...,  -84.62973255,\n",
       "           34.25050604,    6.35913795],\n",
       "        [  -0.67885758,  -17.88079252,    1.1387251 , ...,  -37.98919615,\n",
       "          -37.90612993,    7.81653331]]),\n",
       " 't_m': array([[865.33636, 864.42438, 864.97278, ..., 864.16479, 863.32117,\n",
       "         863.45099],\n",
       "        [864.85889, 865.39697, 864.53229, ..., 864.78021, 865.21942,\n",
       "         863.75311],\n",
       "        [864.50604, 864.60791, 865.42572, ..., 863.04614, 863.90692,\n",
       "         863.09601],\n",
       "        ...,\n",
       "        [865.34967, 862.90302, 862.78784, ..., 863.32245, 865.08752,\n",
       "         865.06946],\n",
       "        [865.34967, 862.90302, 862.94812, ..., 864.20264, 862.82867,\n",
       "         863.51843],\n",
       "        [865.34967, 862.90302, 863.56403, ..., 863.8399 , 864.8894 ,\n",
       "         864.98309]]),\n",
       " 'F_bg': array([ 28.21345004,  52.18056543, 235.03443047, ..., 234.0778779 ,\n",
       "        233.95887622, 234.06282867]),\n",
       " 'eta': array([0.00000000e+00, 6.65091050e-05, 1.74126172e-03, ...,\n",
       "        8.61959122e-02, 8.60091426e-02, 8.53804182e-02]),\n",
       " 'posterior': array([           -inf, -39399.40112748, -30722.53590401, ...,\n",
       "        -18349.99728999, -18341.46194391, -18341.99831498])}"
      ]
     },
     "execution_count": 19,
     "metadata": {},
     "output_type": "execute_result"
    }
   ],
   "source": [
    "data2"
   ]
  },
  {
   "cell_type": "code",
   "execution_count": 14,
   "id": "1399dca8",
   "metadata": {},
   "outputs": [
    {
     "data": {
      "text/plain": [
       "(1001, 70)"
      ]
     },
     "execution_count": 14,
     "metadata": {},
     "output_type": "execute_result"
    }
   ],
   "source": [
    "data['b_m'].shape"
   ]
  },
  {
   "cell_type": "code",
   "execution_count": 15,
   "id": "c115b655",
   "metadata": {},
   "outputs": [
    {
     "data": {
      "text/plain": [
       "(1001, 70)"
      ]
     },
     "execution_count": 15,
     "metadata": {},
     "output_type": "execute_result"
    }
   ],
   "source": [
    "data['h_m'].shape"
   ]
  },
  {
   "cell_type": "code",
   "execution_count": 16,
   "id": "53be8acb",
   "metadata": {},
   "outputs": [
    {
     "data": {
      "text/plain": [
       "(1001, 70)"
      ]
     },
     "execution_count": 16,
     "metadata": {},
     "output_type": "execute_result"
    }
   ],
   "source": [
    "data['t_m'].shape"
   ]
  },
  {
   "cell_type": "code",
   "execution_count": 20,
   "id": "987763bd",
   "metadata": {
    "scrolled": true
   },
   "outputs": [
    {
     "data": {
      "text/plain": [
       "(1001, 70)"
      ]
     },
     "execution_count": 20,
     "metadata": {},
     "output_type": "execute_result"
    }
   ],
   "source": [
    "data2['t_m'].shape"
   ]
  },
  {
   "cell_type": "markdown",
   "id": "e781b5ad",
   "metadata": {},
   "source": []
  },
  {
   "cell_type": "code",
   "execution_count": 23,
   "id": "8ced0a1b",
   "metadata": {},
   "outputs": [
    {
     "ename": "ModuleNotFoundError",
     "evalue": "No module named 'bnpstep'",
     "output_type": "error",
     "traceback": [
      "\u001b[0;31m---------------------------------------------------------------------------\u001b[0m",
      "\u001b[0;31mModuleNotFoundError\u001b[0m                       Traceback (most recent call last)",
      "Cell \u001b[0;32mIn[23], line 1\u001b[0m\n\u001b[0;32m----> 1\u001b[0m \u001b[38;5;28;01mimport\u001b[39;00m \u001b[38;5;21;01mbnpstep\u001b[39;00m \u001b[38;5;28;01mas\u001b[39;00m \u001b[38;5;21;01mbnp\u001b[39;00m\n",
      "\u001b[0;31mModuleNotFoundError\u001b[0m: No module named 'bnpstep'"
     ]
    }
   ],
   "source": [
    "import bnpstep as bnp"
   ]
  },
  {
   "cell_type": "code",
   "execution_count": null,
   "id": "d3fb6983",
   "metadata": {},
   "outputs": [],
   "source": []
  }
 ],
 "metadata": {
  "kernelspec": {
   "display_name": "Python 3 (ipykernel)",
   "language": "python",
   "name": "python3"
  },
  "language_info": {
   "codemirror_mode": {
    "name": "ipython",
    "version": 3
   },
   "file_extension": ".py",
   "mimetype": "text/x-python",
   "name": "python",
   "nbconvert_exporter": "python",
   "pygments_lexer": "ipython3",
   "version": "3.11.5"
  }
 },
 "nbformat": 4,
 "nbformat_minor": 5
}
