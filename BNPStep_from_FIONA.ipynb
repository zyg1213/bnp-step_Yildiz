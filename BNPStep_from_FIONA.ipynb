{
 "cells": [
  {
   "cell_type": "markdown",
   "id": "e1338dce",
   "metadata": {},
   "source": [
    "# Loop for running bnpstep to fit existing FIONA traces\n",
    "\n",
    "### Import necessary packages"
   ]
  },
  {
   "cell_type": "code",
   "execution_count": 1,
   "id": "3cef105e",
   "metadata": {},
   "outputs": [],
   "source": [
    "# All inputs\n",
    "import numpy as np\n",
    "import matplotlib.pyplot as plt\n",
    "import pickle\n",
    "from pathlib import Path\n",
    "import tkinter as tk\n",
    "from tkinter import filedialog\n",
    "import scipy.io\n",
    "import os\n",
    "import bnpstep as bnp\n",
    "\n",
    "def insert_before_pattern(fname, insert_str, pattern):\n",
    "    idx = fname.find(pattern)\n",
    "    if idx == -1:\n",
    "        return fname  # return unchanged\n",
    "    return fname[:idx] + insert_str + fname[idx:]"
   ]
  },
  {
   "cell_type": "markdown",
   "id": "38f52701",
   "metadata": {},
   "source": [
    "### Select (multiple) .mat fiona files for loading"
   ]
  },
  {
   "cell_type": "code",
   "execution_count": 16,
   "id": "895abbc8",
   "metadata": {},
   "outputs": [
    {
     "name": "stdout",
     "output_type": "stream",
     "text": [
      "Number of files:  25\n",
      "['/Users/slivka/Documents/University of California/Research/Dip comparison temp folder/bnpstep trial/PO4 5000/250415-M19-000508_31341_fiona_wblip.mat', '/Users/slivka/Documents/University of California/Research/Dip comparison temp folder/bnpstep trial/PO4 5000/250415-M19-000508_38881_fiona_wblip.mat', '/Users/slivka/Documents/University of California/Research/Dip comparison temp folder/bnpstep trial/PO4 5000/250415-M21-012255_4973_fiona_wblip.mat', '/Users/slivka/Documents/University of California/Research/Dip comparison temp folder/bnpstep trial/PO4 5000/250415-M21-012255_27370_fiona_wblip.mat', '/Users/slivka/Documents/University of California/Research/Dip comparison temp folder/bnpstep trial/PO4 5000/250415-M21-012255_38733_fiona_wblip.mat', '/Users/slivka/Documents/University of California/Research/Dip comparison temp folder/bnpstep trial/PO4 5000/250415-M21-012255_44361_fiona_wblip.mat', '/Users/slivka/Documents/University of California/Research/Dip comparison temp folder/bnpstep trial/PO4 5000/250416-M1-163752_6067_fiona_wblip_wblip.mat', '/Users/slivka/Documents/University of California/Research/Dip comparison temp folder/bnpstep trial/PO4 5000/250416-M3-180303_10305_fiona_wblip_wblip.mat', '/Users/slivka/Documents/University of California/Research/Dip comparison temp folder/bnpstep trial/PO4 5000/250416-M3-180303_9559_fiona_wblip_wblip.mat', '/Users/slivka/Documents/University of California/Research/Dip comparison temp folder/bnpstep trial/PO4 5000/250416-M3-180303_8849_fiona_wblip_wblip.mat', '/Users/slivka/Documents/University of California/Research/Dip comparison temp folder/bnpstep trial/PO4 5000/250416-M3-180303_6826_fiona_wblip_wblip.mat', '/Users/slivka/Documents/University of California/Research/Dip comparison temp folder/bnpstep trial/PO4 5000/250416-M3-180303_3439_fiona_wblip_wblip.mat', '/Users/slivka/Documents/University of California/Research/Dip comparison temp folder/bnpstep trial/PO4 5000/250416-M3-180303_2171_fiona_wblip_wblip.mat', '/Users/slivka/Documents/University of California/Research/Dip comparison temp folder/bnpstep trial/PO4 5000/250416-M3-181533_5079_fiona_wblip_wblip.mat', '/Users/slivka/Documents/University of California/Research/Dip comparison temp folder/bnpstep trial/PO4 5000/250416-M3-180303_18511_fiona_wblip_wblip.mat', '/Users/slivka/Documents/University of California/Research/Dip comparison temp folder/bnpstep trial/PO4 5000/250416-M3-180303_13268_fiona_wblip_wblip.mat', '/Users/slivka/Documents/University of California/Research/Dip comparison temp folder/bnpstep trial/PO4 5000/250416-M5-190055_26368_fiona_wblip_wblip.mat', '/Users/slivka/Documents/University of California/Research/Dip comparison temp folder/bnpstep trial/PO4 5000/250416-M5-190638_18643_fiona_wblip_wblip.mat', '/Users/slivka/Documents/University of California/Research/Dip comparison temp folder/bnpstep trial/PO4 5000/250416-M5-190638_14001_fiona_wblip_wblip.mat', '/Users/slivka/Documents/University of California/Research/Dip comparison temp folder/bnpstep trial/PO4 5000/250416-M5-190638_4442_fiona_wblip_wblip.mat', '/Users/slivka/Documents/University of California/Research/Dip comparison temp folder/bnpstep trial/PO4 5000/250416-M5-190055_39524_fiona_wblip_wblip.mat', '/Users/slivka/Documents/University of California/Research/Dip comparison temp folder/bnpstep trial/PO4 5000/250416-M5-190638_48668_fiona_wblip_wblip.mat', '/Users/slivka/Documents/University of California/Research/Dip comparison temp folder/bnpstep trial/PO4 5000/250416-M5-190638_31051_fiona_wblip_wblip.mat', '/Users/slivka/Documents/University of California/Research/Dip comparison temp folder/bnpstep trial/PO4 5000/250416-M5-190638_29322_fiona_wblip_wblip.mat', '/Users/slivka/Documents/University of California/Research/Dip comparison temp folder/bnpstep trial/PO4 5000/250416-M1-163752_18194_fiona_wblip_wblip.mat']\n"
     ]
    }
   ],
   "source": [
    "# Select .mat fiona files for loading\n",
    "\n",
    "# Hide the main tkinter window\n",
    "root = tk.Tk()\n",
    "root.withdraw()\n",
    "\n",
    "# Open file dialog to select multiple files\n",
    "file_paths = filedialog.askopenfilenames(\n",
    "    title='Select .mat files',\n",
    "    filetypes=[('MAT files', '*.mat')]\n",
    ")\n",
    "\n",
    "# file_paths is a tuple of strings (paths)\n",
    "print(\"Number of files: \", len(file_paths))\n",
    "print(list(file_paths))  # Convert to list if needed\n"
   ]
  },
  {
   "cell_type": "markdown",
   "id": "5d4b1639",
   "metadata": {},
   "source": [
    "### Run through all files and save bnpstep results in .mat and .pkl format\n",
    "\n",
    "Note: We will read the step number in the trace to give us an estimate of number of steps. It might slightly increase time, but it is necessary to make sure we aren't overloading the matrices. It seems by parameter sweep that 10000 iterations is good to get most of the convergence by eye."
   ]
  },
  {
   "cell_type": "code",
   "execution_count": 17,
   "id": "2e217777",
   "metadata": {},
   "outputs": [
    {
     "name": "stdout",
     "output_type": "stream",
     "text": [
      "(4654, 2)\n",
      "Sampler initialized with max steps: 34 sampling for 5000 iterations.\n"
     ]
    },
    {
     "name": "stderr",
     "output_type": "stream",
     "text": [
      "/Users/slivka/Documents/GitHub/bnp-step/bnpsampler.py:344: RuntimeWarning: divide by zero encountered in log\n",
      "  new_log_likelihood = ((num_data / 2) * np.log(eta_vec[-1] / (2 * np.pi))) - exponent_term\n",
      "/Users/slivka/Documents/GitHub/bnp-step/bnpsampler.py:393: RuntimeWarning: divide by zero encountered in log\n",
      "  prior_eta = ((phi - 1) * np.log(eta_vec[-1])) - ((phi * eta_vec[-1]) / eta_ref) - np.log(sp.special.gamma(phi)) - \\\n",
      "/Users/slivka/Documents/GitHub/bnp-step/bnpsampler.py:399: RuntimeWarning: invalid value encountered in scalar add\n",
      "  log_posterior = log_likelihood + prior_b_m + prior_h_m + prior_t_m + prior_eta + prior_f\n",
      "/Users/slivka/Documents/GitHub/bnp-step/bnpsampler.py:250: RuntimeWarning: divide by zero encountered in scalar divide\n",
      "  acceptance_ratio = (1 / (np.exp(exponent_prop + exponent_old))) ** (1 / temp)\n",
      "/Users/slivka/Documents/GitHub/bnp-step/bnpsampler.py:250: RuntimeWarning: overflow encountered in exp\n",
      "  acceptance_ratio = (1 / (np.exp(exponent_prop + exponent_old))) ** (1 / temp)\n"
     ]
    },
    {
     "name": "stdout",
     "output_type": "stream",
     "text": [
      "(4340, 2)\n",
      "Sampler initialized with max steps: 40 sampling for 5000 iterations.\n"
     ]
    },
    {
     "name": "stderr",
     "output_type": "stream",
     "text": [
      "/Users/slivka/Documents/GitHub/bnp-step/bnpsampler.py:344: RuntimeWarning: divide by zero encountered in log\n",
      "  new_log_likelihood = ((num_data / 2) * np.log(eta_vec[-1] / (2 * np.pi))) - exponent_term\n",
      "/Users/slivka/Documents/GitHub/bnp-step/bnpsampler.py:393: RuntimeWarning: divide by zero encountered in log\n",
      "  prior_eta = ((phi - 1) * np.log(eta_vec[-1])) - ((phi * eta_vec[-1]) / eta_ref) - np.log(sp.special.gamma(phi)) - \\\n",
      "/Users/slivka/Documents/GitHub/bnp-step/bnpsampler.py:399: RuntimeWarning: invalid value encountered in scalar add\n",
      "  log_posterior = log_likelihood + prior_b_m + prior_h_m + prior_t_m + prior_eta + prior_f\n",
      "/Users/slivka/Documents/GitHub/bnp-step/bnpsampler.py:250: RuntimeWarning: overflow encountered in exp\n",
      "  acceptance_ratio = (1 / (np.exp(exponent_prop + exponent_old))) ** (1 / temp)\n"
     ]
    },
    {
     "name": "stdout",
     "output_type": "stream",
     "text": [
      "(2541, 2)\n",
      "Sampler initialized with max steps: 24 sampling for 5000 iterations.\n"
     ]
    },
    {
     "name": "stderr",
     "output_type": "stream",
     "text": [
      "/Users/slivka/Documents/GitHub/bnp-step/bnpsampler.py:250: RuntimeWarning: overflow encountered in scalar divide\n",
      "  acceptance_ratio = (1 / (np.exp(exponent_prop + exponent_old))) ** (1 / temp)\n",
      "/Users/slivka/Documents/GitHub/bnp-step/bnpsampler.py:250: RuntimeWarning: overflow encountered in exp\n",
      "  acceptance_ratio = (1 / (np.exp(exponent_prop + exponent_old))) ** (1 / temp)\n"
     ]
    },
    {
     "name": "stdout",
     "output_type": "stream",
     "text": [
      "(3550, 2)\n",
      "Sampler initialized with max steps: 48 sampling for 5000 iterations.\n"
     ]
    },
    {
     "name": "stderr",
     "output_type": "stream",
     "text": [
      "/Users/slivka/Documents/GitHub/bnp-step/bnpsampler.py:344: RuntimeWarning: divide by zero encountered in log\n",
      "  new_log_likelihood = ((num_data / 2) * np.log(eta_vec[-1] / (2 * np.pi))) - exponent_term\n",
      "/Users/slivka/Documents/GitHub/bnp-step/bnpsampler.py:393: RuntimeWarning: divide by zero encountered in log\n",
      "  prior_eta = ((phi - 1) * np.log(eta_vec[-1])) - ((phi * eta_vec[-1]) / eta_ref) - np.log(sp.special.gamma(phi)) - \\\n",
      "/Users/slivka/Documents/GitHub/bnp-step/bnpsampler.py:399: RuntimeWarning: invalid value encountered in scalar add\n",
      "  log_posterior = log_likelihood + prior_b_m + prior_h_m + prior_t_m + prior_eta + prior_f\n",
      "/Users/slivka/Documents/GitHub/bnp-step/bnpsampler.py:250: RuntimeWarning: overflow encountered in exp\n",
      "  acceptance_ratio = (1 / (np.exp(exponent_prop + exponent_old))) ** (1 / temp)\n"
     ]
    },
    {
     "name": "stdout",
     "output_type": "stream",
     "text": [
      "(7103, 2)\n",
      "Sampler initialized with max steps: 86 sampling for 5000 iterations.\n"
     ]
    },
    {
     "name": "stderr",
     "output_type": "stream",
     "text": [
      "/Users/slivka/Documents/GitHub/bnp-step/bnpsampler.py:344: RuntimeWarning: divide by zero encountered in log\n",
      "  new_log_likelihood = ((num_data / 2) * np.log(eta_vec[-1] / (2 * np.pi))) - exponent_term\n",
      "/Users/slivka/Documents/GitHub/bnp-step/bnpsampler.py:393: RuntimeWarning: divide by zero encountered in log\n",
      "  prior_eta = ((phi - 1) * np.log(eta_vec[-1])) - ((phi * eta_vec[-1]) / eta_ref) - np.log(sp.special.gamma(phi)) - \\\n",
      "/Users/slivka/Documents/GitHub/bnp-step/bnpsampler.py:399: RuntimeWarning: invalid value encountered in scalar add\n",
      "  log_posterior = log_likelihood + prior_b_m + prior_h_m + prior_t_m + prior_eta + prior_f\n",
      "/Users/slivka/Documents/GitHub/bnp-step/bnpsampler.py:250: RuntimeWarning: overflow encountered in exp\n",
      "  acceptance_ratio = (1 / (np.exp(exponent_prop + exponent_old))) ** (1 / temp)\n"
     ]
    },
    {
     "name": "stdout",
     "output_type": "stream",
     "text": [
      "(5731, 2)\n",
      "Sampler initialized with max steps: 50 sampling for 5000 iterations.\n"
     ]
    },
    {
     "name": "stderr",
     "output_type": "stream",
     "text": [
      "/Users/slivka/Documents/GitHub/bnp-step/bnpsampler.py:344: RuntimeWarning: divide by zero encountered in log\n",
      "  new_log_likelihood = ((num_data / 2) * np.log(eta_vec[-1] / (2 * np.pi))) - exponent_term\n",
      "/Users/slivka/Documents/GitHub/bnp-step/bnpsampler.py:393: RuntimeWarning: divide by zero encountered in log\n",
      "  prior_eta = ((phi - 1) * np.log(eta_vec[-1])) - ((phi * eta_vec[-1]) / eta_ref) - np.log(sp.special.gamma(phi)) - \\\n",
      "/Users/slivka/Documents/GitHub/bnp-step/bnpsampler.py:399: RuntimeWarning: invalid value encountered in scalar add\n",
      "  log_posterior = log_likelihood + prior_b_m + prior_h_m + prior_t_m + prior_eta + prior_f\n",
      "/Users/slivka/Documents/GitHub/bnp-step/bnpsampler.py:250: RuntimeWarning: overflow encountered in exp\n",
      "  acceptance_ratio = (1 / (np.exp(exponent_prop + exponent_old))) ** (1 / temp)\n"
     ]
    },
    {
     "name": "stdout",
     "output_type": "stream",
     "text": [
      "(5201, 2)\n",
      "Sampler initialized with max steps: 58 sampling for 5000 iterations.\n"
     ]
    },
    {
     "name": "stderr",
     "output_type": "stream",
     "text": [
      "/Users/slivka/Documents/GitHub/bnp-step/bnpsampler.py:250: RuntimeWarning: divide by zero encountered in scalar divide\n",
      "  acceptance_ratio = (1 / (np.exp(exponent_prop + exponent_old))) ** (1 / temp)\n",
      "/Users/slivka/Documents/GitHub/bnp-step/bnpsampler.py:250: RuntimeWarning: overflow encountered in exp\n",
      "  acceptance_ratio = (1 / (np.exp(exponent_prop + exponent_old))) ** (1 / temp)\n"
     ]
    },
    {
     "name": "stdout",
     "output_type": "stream",
     "text": [
      "(10396, 2)\n",
      "skipping 250416-M3-180303_10305_fiona_wblip_wblip for too many steps\n",
      "(4439, 2)\n",
      "Sampler initialized with max steps: 34 sampling for 5000 iterations.\n"
     ]
    },
    {
     "name": "stderr",
     "output_type": "stream",
     "text": [
      "/Users/slivka/Documents/GitHub/bnp-step/bnpsampler.py:344: RuntimeWarning: divide by zero encountered in log\n",
      "  new_log_likelihood = ((num_data / 2) * np.log(eta_vec[-1] / (2 * np.pi))) - exponent_term\n",
      "/Users/slivka/Documents/GitHub/bnp-step/bnpsampler.py:393: RuntimeWarning: divide by zero encountered in log\n",
      "  prior_eta = ((phi - 1) * np.log(eta_vec[-1])) - ((phi * eta_vec[-1]) / eta_ref) - np.log(sp.special.gamma(phi)) - \\\n",
      "/Users/slivka/Documents/GitHub/bnp-step/bnpsampler.py:399: RuntimeWarning: invalid value encountered in scalar add\n",
      "  log_posterior = log_likelihood + prior_b_m + prior_h_m + prior_t_m + prior_eta + prior_f\n",
      "/Users/slivka/Documents/GitHub/bnp-step/bnpsampler.py:250: RuntimeWarning: divide by zero encountered in scalar divide\n",
      "  acceptance_ratio = (1 / (np.exp(exponent_prop + exponent_old))) ** (1 / temp)\n",
      "/Users/slivka/Documents/GitHub/bnp-step/bnpsampler.py:250: RuntimeWarning: overflow encountered in exp\n",
      "  acceptance_ratio = (1 / (np.exp(exponent_prop + exponent_old))) ** (1 / temp)\n"
     ]
    },
    {
     "name": "stdout",
     "output_type": "stream",
     "text": [
      "(15351, 2)\n",
      "skipping 250416-M3-180303_8849_fiona_wblip_wblip for too many steps\n",
      "(7333, 2)\n",
      "Sampler initialized with max steps: 98 sampling for 5000 iterations.\n"
     ]
    },
    {
     "name": "stderr",
     "output_type": "stream",
     "text": [
      "/Users/slivka/Documents/GitHub/bnp-step/bnpsampler.py:344: RuntimeWarning: divide by zero encountered in log\n",
      "  new_log_likelihood = ((num_data / 2) * np.log(eta_vec[-1] / (2 * np.pi))) - exponent_term\n",
      "/Users/slivka/Documents/GitHub/bnp-step/bnpsampler.py:393: RuntimeWarning: divide by zero encountered in log\n",
      "  prior_eta = ((phi - 1) * np.log(eta_vec[-1])) - ((phi * eta_vec[-1]) / eta_ref) - np.log(sp.special.gamma(phi)) - \\\n",
      "/Users/slivka/Documents/GitHub/bnp-step/bnpsampler.py:399: RuntimeWarning: invalid value encountered in scalar add\n",
      "  log_posterior = log_likelihood + prior_b_m + prior_h_m + prior_t_m + prior_eta + prior_f\n",
      "/Users/slivka/Documents/GitHub/bnp-step/bnpsampler.py:250: RuntimeWarning: overflow encountered in exp\n",
      "  acceptance_ratio = (1 / (np.exp(exponent_prop + exponent_old))) ** (1 / temp)\n"
     ]
    },
    {
     "name": "stdout",
     "output_type": "stream",
     "text": [
      "(5670, 2)\n",
      "Sampler initialized with max steps: 100 sampling for 5000 iterations.\n"
     ]
    },
    {
     "name": "stderr",
     "output_type": "stream",
     "text": [
      "/Users/slivka/Documents/GitHub/bnp-step/bnpsampler.py:344: RuntimeWarning: divide by zero encountered in log\n",
      "  new_log_likelihood = ((num_data / 2) * np.log(eta_vec[-1] / (2 * np.pi))) - exponent_term\n",
      "/Users/slivka/Documents/GitHub/bnp-step/bnpsampler.py:393: RuntimeWarning: divide by zero encountered in log\n",
      "  prior_eta = ((phi - 1) * np.log(eta_vec[-1])) - ((phi * eta_vec[-1]) / eta_ref) - np.log(sp.special.gamma(phi)) - \\\n",
      "/Users/slivka/Documents/GitHub/bnp-step/bnpsampler.py:399: RuntimeWarning: invalid value encountered in scalar add\n",
      "  log_posterior = log_likelihood + prior_b_m + prior_h_m + prior_t_m + prior_eta + prior_f\n",
      "/Users/slivka/Documents/GitHub/bnp-step/bnpsampler.py:250: RuntimeWarning: overflow encountered in exp\n",
      "  acceptance_ratio = (1 / (np.exp(exponent_prop + exponent_old))) ** (1 / temp)\n"
     ]
    },
    {
     "name": "stdout",
     "output_type": "stream",
     "text": [
      "(4576, 2)\n",
      "Sampler initialized with max steps: 58 sampling for 5000 iterations.\n"
     ]
    },
    {
     "name": "stderr",
     "output_type": "stream",
     "text": [
      "/Users/slivka/Documents/GitHub/bnp-step/bnpsampler.py:344: RuntimeWarning: divide by zero encountered in log\n",
      "  new_log_likelihood = ((num_data / 2) * np.log(eta_vec[-1] / (2 * np.pi))) - exponent_term\n",
      "/Users/slivka/Documents/GitHub/bnp-step/bnpsampler.py:393: RuntimeWarning: divide by zero encountered in log\n",
      "  prior_eta = ((phi - 1) * np.log(eta_vec[-1])) - ((phi * eta_vec[-1]) / eta_ref) - np.log(sp.special.gamma(phi)) - \\\n",
      "/Users/slivka/Documents/GitHub/bnp-step/bnpsampler.py:399: RuntimeWarning: invalid value encountered in scalar add\n",
      "  log_posterior = log_likelihood + prior_b_m + prior_h_m + prior_t_m + prior_eta + prior_f\n",
      "/Users/slivka/Documents/GitHub/bnp-step/bnpsampler.py:250: RuntimeWarning: overflow encountered in exp\n",
      "  acceptance_ratio = (1 / (np.exp(exponent_prop + exponent_old))) ** (1 / temp)\n"
     ]
    },
    {
     "name": "stdout",
     "output_type": "stream",
     "text": [
      "(11108, 2)\n",
      "skipping 250416-M3-181533_5079_fiona_wblip_wblip for too many steps\n",
      "(10657, 2)\n",
      "Sampler initialized with max steps: 80 sampling for 5000 iterations.\n"
     ]
    },
    {
     "name": "stderr",
     "output_type": "stream",
     "text": [
      "/Users/slivka/Documents/GitHub/bnp-step/bnpsampler.py:344: RuntimeWarning: divide by zero encountered in log\n",
      "  new_log_likelihood = ((num_data / 2) * np.log(eta_vec[-1] / (2 * np.pi))) - exponent_term\n",
      "/Users/slivka/Documents/GitHub/bnp-step/bnpsampler.py:393: RuntimeWarning: divide by zero encountered in log\n",
      "  prior_eta = ((phi - 1) * np.log(eta_vec[-1])) - ((phi * eta_vec[-1]) / eta_ref) - np.log(sp.special.gamma(phi)) - \\\n",
      "/Users/slivka/Documents/GitHub/bnp-step/bnpsampler.py:399: RuntimeWarning: invalid value encountered in scalar add\n",
      "  log_posterior = log_likelihood + prior_b_m + prior_h_m + prior_t_m + prior_eta + prior_f\n",
      "/Users/slivka/Documents/GitHub/bnp-step/bnpsampler.py:250: RuntimeWarning: overflow encountered in exp\n",
      "  acceptance_ratio = (1 / (np.exp(exponent_prop + exponent_old))) ** (1 / temp)\n"
     ]
    },
    {
     "name": "stdout",
     "output_type": "stream",
     "text": [
      "(56560, 2)\n",
      "skipping 250416-M3-180303_13268_fiona_wblip_wblip for too many steps\n",
      "(3702, 2)\n",
      "Sampler initialized with max steps: 74 sampling for 5000 iterations.\n"
     ]
    },
    {
     "name": "stderr",
     "output_type": "stream",
     "text": [
      "/Users/slivka/Documents/GitHub/bnp-step/bnpsampler.py:250: RuntimeWarning: overflow encountered in exp\n",
      "  acceptance_ratio = (1 / (np.exp(exponent_prop + exponent_old))) ** (1 / temp)\n"
     ]
    },
    {
     "name": "stdout",
     "output_type": "stream",
     "text": [
      "(1780, 2)\n",
      "Sampler initialized with max steps: 28 sampling for 5000 iterations.\n"
     ]
    },
    {
     "name": "stderr",
     "output_type": "stream",
     "text": [
      "/Users/slivka/Documents/GitHub/bnp-step/bnpsampler.py:344: RuntimeWarning: divide by zero encountered in log\n",
      "  new_log_likelihood = ((num_data / 2) * np.log(eta_vec[-1] / (2 * np.pi))) - exponent_term\n",
      "/Users/slivka/Documents/GitHub/bnp-step/bnpsampler.py:393: RuntimeWarning: divide by zero encountered in log\n",
      "  prior_eta = ((phi - 1) * np.log(eta_vec[-1])) - ((phi * eta_vec[-1]) / eta_ref) - np.log(sp.special.gamma(phi)) - \\\n",
      "/Users/slivka/Documents/GitHub/bnp-step/bnpsampler.py:399: RuntimeWarning: invalid value encountered in scalar add\n",
      "  log_posterior = log_likelihood + prior_b_m + prior_h_m + prior_t_m + prior_eta + prior_f\n",
      "/Users/slivka/Documents/GitHub/bnp-step/bnpsampler.py:250: RuntimeWarning: overflow encountered in exp\n",
      "  acceptance_ratio = (1 / (np.exp(exponent_prop + exponent_old))) ** (1 / temp)\n"
     ]
    },
    {
     "name": "stdout",
     "output_type": "stream",
     "text": [
      "(3717, 2)\n",
      "Sampler initialized with max steps: 82 sampling for 5000 iterations.\n"
     ]
    },
    {
     "name": "stderr",
     "output_type": "stream",
     "text": [
      "/Users/slivka/Documents/GitHub/bnp-step/bnpsampler.py:250: RuntimeWarning: overflow encountered in exp\n",
      "  acceptance_ratio = (1 / (np.exp(exponent_prop + exponent_old))) ** (1 / temp)\n"
     ]
    },
    {
     "name": "stdout",
     "output_type": "stream",
     "text": [
      "(5583, 2)\n",
      "Sampler initialized with max steps: 78 sampling for 5000 iterations.\n"
     ]
    },
    {
     "name": "stderr",
     "output_type": "stream",
     "text": [
      "/Users/slivka/Documents/GitHub/bnp-step/bnpsampler.py:250: RuntimeWarning: overflow encountered in exp\n",
      "  acceptance_ratio = (1 / (np.exp(exponent_prop + exponent_old))) ** (1 / temp)\n"
     ]
    },
    {
     "name": "stdout",
     "output_type": "stream",
     "text": [
      "(6537, 2)\n",
      "Sampler initialized with max steps: 60 sampling for 5000 iterations.\n"
     ]
    },
    {
     "name": "stderr",
     "output_type": "stream",
     "text": [
      "/Users/slivka/Documents/GitHub/bnp-step/bnpsampler.py:250: RuntimeWarning: overflow encountered in exp\n",
      "  acceptance_ratio = (1 / (np.exp(exponent_prop + exponent_old))) ** (1 / temp)\n"
     ]
    },
    {
     "name": "stdout",
     "output_type": "stream",
     "text": [
      "(3664, 2)\n",
      "Sampler initialized with max steps: 34 sampling for 5000 iterations.\n"
     ]
    },
    {
     "name": "stderr",
     "output_type": "stream",
     "text": [
      "/Users/slivka/Documents/GitHub/bnp-step/bnpsampler.py:344: RuntimeWarning: divide by zero encountered in log\n",
      "  new_log_likelihood = ((num_data / 2) * np.log(eta_vec[-1] / (2 * np.pi))) - exponent_term\n",
      "/Users/slivka/Documents/GitHub/bnp-step/bnpsampler.py:393: RuntimeWarning: divide by zero encountered in log\n",
      "  prior_eta = ((phi - 1) * np.log(eta_vec[-1])) - ((phi * eta_vec[-1]) / eta_ref) - np.log(sp.special.gamma(phi)) - \\\n",
      "/Users/slivka/Documents/GitHub/bnp-step/bnpsampler.py:399: RuntimeWarning: invalid value encountered in scalar add\n",
      "  log_posterior = log_likelihood + prior_b_m + prior_h_m + prior_t_m + prior_eta + prior_f\n",
      "/Users/slivka/Documents/GitHub/bnp-step/bnpsampler.py:250: RuntimeWarning: overflow encountered in exp\n",
      "  acceptance_ratio = (1 / (np.exp(exponent_prop + exponent_old))) ** (1 / temp)\n"
     ]
    },
    {
     "name": "stdout",
     "output_type": "stream",
     "text": [
      "(2502, 2)\n",
      "Sampler initialized with max steps: 50 sampling for 5000 iterations.\n"
     ]
    },
    {
     "name": "stderr",
     "output_type": "stream",
     "text": [
      "/Users/slivka/Documents/GitHub/bnp-step/bnpsampler.py:250: RuntimeWarning: overflow encountered in exp\n",
      "  acceptance_ratio = (1 / (np.exp(exponent_prop + exponent_old))) ** (1 / temp)\n"
     ]
    },
    {
     "name": "stdout",
     "output_type": "stream",
     "text": [
      "(1206, 2)\n",
      "Sampler initialized with max steps: 34 sampling for 5000 iterations.\n"
     ]
    },
    {
     "name": "stderr",
     "output_type": "stream",
     "text": [
      "/Users/slivka/Documents/GitHub/bnp-step/bnpsampler.py:344: RuntimeWarning: divide by zero encountered in log\n",
      "  new_log_likelihood = ((num_data / 2) * np.log(eta_vec[-1] / (2 * np.pi))) - exponent_term\n",
      "/Users/slivka/Documents/GitHub/bnp-step/bnpsampler.py:393: RuntimeWarning: divide by zero encountered in log\n",
      "  prior_eta = ((phi - 1) * np.log(eta_vec[-1])) - ((phi * eta_vec[-1]) / eta_ref) - np.log(sp.special.gamma(phi)) - \\\n",
      "/Users/slivka/Documents/GitHub/bnp-step/bnpsampler.py:399: RuntimeWarning: invalid value encountered in scalar add\n",
      "  log_posterior = log_likelihood + prior_b_m + prior_h_m + prior_t_m + prior_eta + prior_f\n",
      "/Users/slivka/Documents/GitHub/bnp-step/bnpsampler.py:250: RuntimeWarning: overflow encountered in exp\n",
      "  acceptance_ratio = (1 / (np.exp(exponent_prop + exponent_old))) ** (1 / temp)\n"
     ]
    },
    {
     "name": "stdout",
     "output_type": "stream",
     "text": [
      "(23310, 2)\n",
      "skipping 250416-M1-163752_18194_fiona_wblip_wblip for too many steps\n"
     ]
    }
   ],
   "source": [
    "# now run and save all results to load in later for the trace long-axis. (Short-axis to come later)\n",
    "\n",
    "for i in range(len(file_paths)):\n",
    "    matdata = scipy.io.loadmat(file_paths[i], squeeze_me=False, struct_as_record=True)\n",
    "    p = Path(file_paths[i])\n",
    "\n",
    "    # print(matdata['data'].dtype)\n",
    "    data_struct = matdata['data'][0, 0]  # Extract the struct instance\n",
    "    # for name in matdata['data'].dtype.names:\n",
    "    #     field = data_struct[name]\n",
    "    #     print(f\"{name}: type = {type(field)}, shape = {getattr(field, 'shape', None)}\")\n",
    "\n",
    "    # for name in matdata['data'].dtype.names:\n",
    "    #     print(name, data_struct[name])\n",
    "\n",
    "    # Write a csv to load data, then immediately delete\n",
    "    t_trace_arr = np.array([data_struct['time'].reshape(len(data_struct['time']),1).flatten(), data_struct['trace'][:,0].reshape(len(data_struct['time']),1).flatten()])\n",
    "    # t_trace_arr = t_trace_arr.reshape(len(data_struct['time']),2)\n",
    "    t_trace_arr = t_trace_arr.transpose()\n",
    "    print(t_trace_arr.shape)\n",
    "    np.savetxt(str(p.parent)+'/tempdata.csv', t_trace_arr, delimiter=',')\n",
    "\n",
    "    # Initialize the data with the sampler with about twice as many steps as the user found\n",
    "    A = data_struct['trace'][:,2]\n",
    "    estimated_steps = np.sum(np.roll(A,1)!=A)\n",
    "    if estimated_steps > 128/2:\n",
    "        print('skipping', p.stem, 'for too many steps')\n",
    "    else:\n",
    "        sampler = bnp.BNPStep(B_max=int(2*estimated_steps))\n",
    "        sampler.load_data(str(p.parent)+'/tempdata.csv', has_timepoints=True)\n",
    "\n",
    "        # if os.path.exists('tests/tempdata.csv'):\n",
    "        #     os.remove('tests/tempdata.csv')\n",
    "        #     print(\"File deleted.\")\n",
    "        # else:\n",
    "        #     print(\"File not found.\")\n",
    "\n",
    "        # Now find the steps\n",
    "        print(\"Sampler initialized with max steps:\", int(2*estimated_steps), \"sampling for 5000 iterations.\")\n",
    "        sampler.analyze(num_samples=5000)\n",
    "        sampler.results_to_file(outfile=str(p.parent)+'/'+p.stem+'_trial_sample')\n",
    "        # sampler.visualize_results(plot_type='step')\n",
    "\n",
    "        # change the trace fit after we did the new fitting\n",
    "        new_steps = sampler.export_step_data()\n",
    "        data_struct['trace'][:,2] = np.reshape(new_steps, data_struct['trace'][:,2].shape)\n",
    "\n",
    "        # Now build the dictionary again and rewrite it to the new filename\n",
    "        # Build the dictionary dynamically\n",
    "        new_filename = insert_before_pattern(file_paths[i], \"_bnpstep\", \"_fiona\")\n",
    "        rewritematdata = {'data': {}}\n",
    "\n",
    "        for name in matdata['data'].dtype.names:\n",
    "            rewritematdata['data'][name] = data_struct[name]\n",
    "\n",
    "        scipy.io.savemat(new_filename, rewritematdata)\n",
    "    "
   ]
  },
  {
   "cell_type": "markdown",
   "id": "c7216f55",
   "metadata": {},
   "source": [
    "## Visualization of data with python (Not operational with current setup)"
   ]
  },
  {
   "cell_type": "code",
   "execution_count": 13,
   "id": "6cac5401",
   "metadata": {},
   "outputs": [
    {
     "ename": "ValueError",
     "evalue": "Dataset is empty, cannot generate graphs.",
     "output_type": "error",
     "traceback": [
      "\u001b[0;31m---------------------------------------------------------------------------\u001b[0m",
      "\u001b[0;31mValueError\u001b[0m                                Traceback (most recent call last)",
      "Cell \u001b[0;32mIn[13], line 5\u001b[0m\n\u001b[1;32m      3\u001b[0m sampler \u001b[38;5;241m=\u001b[39m bnp\u001b[38;5;241m.\u001b[39mBNPStep(B_max\u001b[38;5;241m=\u001b[39m\u001b[38;5;241m122\u001b[39m)\n\u001b[1;32m      4\u001b[0m sampler\u001b[38;5;241m.\u001b[39mresults_from_file(filename\u001b[38;5;241m=\u001b[39mrootdir1\u001b[38;5;241m+\u001b[39m\u001b[38;5;124m'\u001b[39m\u001b[38;5;124m250413-M9-134855_10397_fiona_wblip_trial_sample\u001b[39m\u001b[38;5;124m'\u001b[39m)\n\u001b[0;32m----> 5\u001b[0m sampler\u001b[38;5;241m.\u001b[39mvisualize_results(plot_type\u001b[38;5;241m=\u001b[39m\u001b[38;5;124m'\u001b[39m\u001b[38;5;124mstep\u001b[39m\u001b[38;5;124m'\u001b[39m)\n",
      "File \u001b[0;32m~/Documents/GitHub/bnp-step/bnpstep.py:755\u001b[0m, in \u001b[0;36mBNPStep.visualize_results\u001b[0;34m(self, plot_type, font_size, datacolor, learncolor, gtcolor, alt_color1, alt_color2, alt_color3, alt_color4, x_label, y_label, show_prior, show_ci, plot_alt_results, alt_results, fig_savename)\u001b[0m\n\u001b[1;32m    753\u001b[0m     \u001b[38;5;28;01mraise\u001b[39;00m \u001b[38;5;167;01mValueError\u001b[39;00m(\u001b[38;5;124m\"\u001b[39m\u001b[38;5;124mOne or more sample attribute arrays is empty, cannot generate graphs.\u001b[39m\u001b[38;5;124m\"\u001b[39m)\n\u001b[1;32m    754\u001b[0m \u001b[38;5;28;01mif\u001b[39;00m \u001b[38;5;28mself\u001b[39m\u001b[38;5;241m.\u001b[39mdataset \u001b[38;5;129;01mis\u001b[39;00m \u001b[38;5;28;01mNone\u001b[39;00m:\n\u001b[0;32m--> 755\u001b[0m     \u001b[38;5;28;01mraise\u001b[39;00m \u001b[38;5;167;01mValueError\u001b[39;00m(\u001b[38;5;124m\"\u001b[39m\u001b[38;5;124mDataset is empty, cannot generate graphs.\u001b[39m\u001b[38;5;124m\"\u001b[39m)\n\u001b[1;32m    757\u001b[0m \u001b[38;5;66;03m# Input validation\u001b[39;00m\n\u001b[1;32m    758\u001b[0m \u001b[38;5;28;01mif\u001b[39;00m \u001b[38;5;129;01mnot\u001b[39;00m \u001b[38;5;28misinstance\u001b[39m(plot_type, \u001b[38;5;28mstr\u001b[39m) \u001b[38;5;129;01mand\u001b[39;00m \u001b[38;5;129;01mnot\u001b[39;00m \u001b[38;5;28misinstance\u001b[39m(plot_type, \u001b[38;5;28mlist\u001b[39m):\n",
      "\u001b[0;31mValueError\u001b[0m: Dataset is empty, cannot generate graphs."
     ]
    }
   ],
   "source": [
    "rootdir1 = '/Users/slivka/Documents/University of California/Research/Dip comparison temp folder/bnpstep trial/D1848E 1000/'\n",
    "rootdir2 = '/Users/slivka/Documents/University of California/Research/Dip comparison temp folder/bnpstep trial/D1848E 5000/'\n",
    "sampler = bnp.BNPStep(B_max=122)\n",
    "sampler.load_data(str(p.parent)+'/tempdata.csv', has_timepoints=True)\n",
    "sampler.results_from_file(filename=rootdir1+'250413-M9-134855_10397_fiona_wblip_trial_sample')\n",
    "sampler.visualize_results(plot_type='step')"
   ]
  },
  {
   "cell_type": "code",
   "execution_count": null,
   "id": "8c987951",
   "metadata": {},
   "outputs": [],
   "source": []
  }
 ],
 "metadata": {
  "kernelspec": {
   "display_name": "Python 3 (ipykernel)",
   "language": "python",
   "name": "python3"
  },
  "language_info": {
   "codemirror_mode": {
    "name": "ipython",
    "version": 3
   },
   "file_extension": ".py",
   "mimetype": "text/x-python",
   "name": "python",
   "nbconvert_exporter": "python",
   "pygments_lexer": "ipython3",
   "version": "3.11.5"
  }
 },
 "nbformat": 4,
 "nbformat_minor": 5
}
