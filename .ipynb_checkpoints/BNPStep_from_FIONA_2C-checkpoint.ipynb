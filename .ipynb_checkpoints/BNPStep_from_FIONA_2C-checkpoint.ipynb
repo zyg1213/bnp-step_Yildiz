{
 "cells": [
  {
   "cell_type": "markdown",
   "id": "e1338dce",
   "metadata": {},
   "source": [
    "# Loop for running bnpstep to fit existing FIONA traces\n",
    "\n",
    "### Import necessary packages"
   ]
  },
  {
   "cell_type": "code",
   "execution_count": 1,
   "id": "3cef105e",
   "metadata": {},
   "outputs": [],
   "source": [
    "# All inputs\n",
    "import importlib\n",
    "import time\n",
    "import numpy as np\n",
    "import matplotlib.pyplot as plt\n",
    "import pickle\n",
    "from pathlib import Path\n",
    "import tkinter as tk\n",
    "from tkinter import filedialog\n",
    "import scipy.io\n",
    "import os\n",
    "import bnpstep as bnp\n",
    "importlib.reload(bnp)\n",
    "\n",
    "def insert_before_pattern(fname, insert_str, pattern):\n",
    "    idx = fname.find(pattern)\n",
    "    if idx == -1:\n",
    "        return fname  # return unchanged\n",
    "    return fname[:idx] + insert_str + fname[idx:]"
   ]
  },
  {
   "cell_type": "markdown",
   "id": "38f52701",
   "metadata": {},
   "source": [
    "### Select (multiple) .mat fiona files for loading"
   ]
  },
  {
   "cell_type": "code",
   "execution_count": null,
   "id": "895abbc8",
   "metadata": {},
   "outputs": [],
   "source": [
    "# This is the GUI of files selection. Only works for MacOS now\n",
    "'''\n",
    "# Select .mat fiona files for loading\n",
    "\n",
    "# Hide the main tkinter window\n",
    "root = tk.Tk()\n",
    "root.withdraw()\n",
    "\n",
    "# Open file dialog to select multiple files\n",
    "file_paths = filedialog.askopenfilenames(\n",
    "    title='Select .mat files',\n",
    "    filetypes=[('MAT files', '*.mat')]\n",
    ")\n",
    "\n",
    "# file_paths is a tuple of strings (paths)\n",
    "print(\"Number of files: \", len(file_paths))\n",
    "print(list(file_paths))  # Convert to list if needed\n",
    "'''"
   ]
  },
  {
   "cell_type": "code",
   "execution_count": 28,
   "id": "1eaff1f3",
   "metadata": {},
   "outputs": [],
   "source": [
    "file_paths = ['C:/Users/Yildiz Lab/Desktop/BNP/Stier v2/241113-01-100126_47094_fiona.mat']\n",
    "n_samples = 10"
   ]
  },
  {
   "cell_type": "markdown",
   "id": "5d4b1639",
   "metadata": {},
   "source": [
    "### Run through all files and save bnpstep results in .mat and .pkl format\n",
    "\n",
    "Note: We will read the step number in the trace to give us an estimate of number of steps. It might slightly increase time, but it is necessary to make sure we aren't overloading the matrices. It seems by parameter sweep that 10000 iterations is good to get most of the convergence by eye."
   ]
  },
  {
   "cell_type": "code",
   "execution_count": 45,
   "id": "2e217777",
   "metadata": {},
   "outputs": [
    {
     "name": "stdout",
     "output_type": "stream",
     "text": [
      "(1221, 2)\n",
      "Sampler initialized with max steps: 45 sampling for 10 iterations.\n",
      "Iteration took 0.284222 seconds [ 0.00000000e+00 -2.19395087e+00 -6.38229681e+00 ...  5.50171348e+04\n",
      "  5.51009325e+04  5.51856073e+04]\n"
     ]
    },
    {
     "name": "stderr",
     "output_type": "stream",
     "text": [
      "C:\\Users\\Yildiz Lab\\Documents\\GitHub\\bnp-step_Yildiz\\bnpsampler.py:250: RuntimeWarning: overflow encountered in exp\n",
      "  acceptance_ratio = (1 / (np.exp(exponent_prop + exponent_old))) ** (1 / temp)\n"
     ]
    }
   ],
   "source": [
    "# now run and save all results to load in later for the trace long-axis. (Short-axis to come later)\n",
    "\n",
    "for i in range(len(file_paths)):\n",
    "    start_time = time.perf_counter()\n",
    "    matdata = scipy.io.loadmat(file_paths[i], squeeze_me=False, struct_as_record=True)\n",
    "    p = Path(file_paths[i])\n",
    "\n",
    "    # print(matdata['data'].dtype)\n",
    "    data_struct = matdata['data'][0, 0]  # Extract the struct instance\n",
    "    # for name in matdata['data'].dtype.names:\n",
    "    #     field = data_struct[name]\n",
    "    #     print(f\"{name}: type = {type(field)}, shape = {getattr(field, 'shape', None)}\")\n",
    "\n",
    "    # for name in matdata['data'].dtype.names:\n",
    "    #     print(name, data_struct[name])\n",
    "\n",
    "    # Write a csv to load data, then immediately delete\n",
    "    # Remove Nan's they don't need to be there\n",
    "    data_struct['time'] = data_struct['time'][~np.isnan(data_struct['time'])]\n",
    "    data_struct['trace'] = data_struct['trace'][~np.isnan(data_struct['trace'][:,0])]\n",
    "    \n",
    "    t_trace_arr = np.array([data_struct['time'].reshape(len(data_struct['time']),1).flatten(), data_struct['trace'][:,0].reshape(len(data_struct['time']),1).flatten()])\n",
    "    # t_trace_arr = t_trace_arr.reshape(len(data_struct['time']),2)\n",
    "    t_trace_arr = t_trace_arr.transpose()\n",
    "    print(t_trace_arr.shape)\n",
    "    np.savetxt(str(p.parent)+'/'+p.stem+'_tempdata.csv', t_trace_arr, delimiter=',')\n",
    "\n",
    "    # Initialize the data with the sampler with about twice as many steps as the user found\n",
    "    A = data_struct['trace'][:,2]\n",
    "    estimated_steps = np.sum(np.roll(A,1)!=A)\n",
    "    if estimated_steps > 512/1.7:\n",
    "        print('skipping', p.stem, 'for too many steps')\n",
    "    else:\n",
    "        sampler = bnp.BNPStep(B_max=int(2*estimated_steps))\n",
    "        sampler.load_data(str(p.parent)+'/'+p.stem+'_tempdata.csv', has_timepoints=True)\n",
    "\n",
    "        # if os.path.exists('tests/tempdata.csv'):\n",
    "        #     os.remove('tests/tempdata.csv')\n",
    "        #     print(\"File deleted.\")\n",
    "        # else:\n",
    "        #     print(\"File not found.\")\n",
    "\n",
    "        # Now find the steps\n",
    "        print(\"Sampler initialized with max steps:\", int(1.7*estimated_steps), \"sampling for\", n_samples, \"iterations.\")\n",
    "        sampler.analyze(num_samples= n_samples)\n",
    "        sampler.results_to_file(outfile=str(p.parent)+'/'+p.stem+'_trial_sample')\n",
    "        # sampler.visualize_results(plot_type='step')\n",
    "\n",
    "        # change the trace fit after we did the new fitting\n",
    "        '''\n",
    "        new_steps = sampler.export_step_data()\n",
    "        data_struct['trace'][:,2] = np.reshape(new_steps, data_struct['trace'][:,2].shape)\n",
    "\n",
    "        # Now build the dictionary again and rewrite it to the new filename\n",
    "        # Build the dictionary dynamically\n",
    "        new_filename = insert_before_pattern(file_paths[i], \"_bnpstep\", \"_fiona\")\n",
    "        rewritematdata = {'data': {}}\n",
    "\n",
    "        for name in matdata['data'].dtype.names:\n",
    "            rewritematdata['data'][name] = data_struct[name]\n",
    "\n",
    "        scipy.io.savemat(new_filename, rewritematdata)        '''\n",
    "        \n",
    "    end_time = time.perf_counter()\n",
    "    duration = end_time - start_time\n",
    "    print(f\"Iteration took {duration:.6f} seconds\", sampler.Wacc)"
   ]
  },
  {
   "cell_type": "code",
   "execution_count": 7,
   "id": "d9c1091a",
   "metadata": {},
   "outputs": [
    {
     "name": "stdout",
     "output_type": "stream",
     "text": [
      "(1039, 2)\n",
      "Sampler initialized with max steps: 19 sampling for 5000 iterations.\n"
     ]
    },
    {
     "name": "stderr",
     "output_type": "stream",
     "text": [
      "/Users/slivka/Documents/GitHub/bnp-step/bnpsampler.py:344: RuntimeWarning: divide by zero encountered in log\n",
      "  new_log_likelihood = ((num_data / 2) * np.log(eta_vec[-1] / (2 * np.pi))) - exponent_term\n",
      "/Users/slivka/Documents/GitHub/bnp-step/bnpsampler.py:393: RuntimeWarning: divide by zero encountered in log\n",
      "  prior_eta = ((phi - 1) * np.log(eta_vec[-1])) - ((phi * eta_vec[-1]) / eta_ref) - np.log(sp.special.gamma(phi)) - \\\n",
      "/Users/slivka/Documents/GitHub/bnp-step/bnpsampler.py:399: RuntimeWarning: invalid value encountered in scalar add\n",
      "  log_posterior = log_likelihood + prior_b_m + prior_h_m + prior_t_m + prior_eta + prior_f\n",
      "/Users/slivka/Documents/GitHub/bnp-step/bnpsampler.py:250: RuntimeWarning: overflow encountered in exp\n",
      "  acceptance_ratio = (1 / (np.exp(exponent_prop + exponent_old))) ** (1 / temp)\n"
     ]
    },
    {
     "name": "stdout",
     "output_type": "stream",
     "text": [
      "(1421, 2)\n",
      "Sampler initialized with max steps: 9 sampling for 5000 iterations.\n"
     ]
    },
    {
     "name": "stderr",
     "output_type": "stream",
     "text": [
      "/Users/slivka/Documents/GitHub/bnp-step/bnpsampler.py:250: RuntimeWarning: overflow encountered in exp\n",
      "  acceptance_ratio = (1 / (np.exp(exponent_prop + exponent_old))) ** (1 / temp)\n"
     ]
    },
    {
     "name": "stdout",
     "output_type": "stream",
     "text": [
      "(1140, 2)\n",
      "Sampler initialized with max steps: 16 sampling for 5000 iterations.\n"
     ]
    },
    {
     "name": "stderr",
     "output_type": "stream",
     "text": [
      "/Users/slivka/Documents/GitHub/bnp-step/bnpsampler.py:344: RuntimeWarning: divide by zero encountered in log\n",
      "  new_log_likelihood = ((num_data / 2) * np.log(eta_vec[-1] / (2 * np.pi))) - exponent_term\n",
      "/Users/slivka/Documents/GitHub/bnp-step/bnpsampler.py:393: RuntimeWarning: divide by zero encountered in log\n",
      "  prior_eta = ((phi - 1) * np.log(eta_vec[-1])) - ((phi * eta_vec[-1]) / eta_ref) - np.log(sp.special.gamma(phi)) - \\\n",
      "/Users/slivka/Documents/GitHub/bnp-step/bnpsampler.py:399: RuntimeWarning: invalid value encountered in scalar add\n",
      "  log_posterior = log_likelihood + prior_b_m + prior_h_m + prior_t_m + prior_eta + prior_f\n",
      "/Users/slivka/Documents/GitHub/bnp-step/bnpsampler.py:250: RuntimeWarning: overflow encountered in exp\n",
      "  acceptance_ratio = (1 / (np.exp(exponent_prop + exponent_old))) ** (1 / temp)\n"
     ]
    },
    {
     "name": "stdout",
     "output_type": "stream",
     "text": [
      "(1757, 2)\n",
      "Sampler initialized with max steps: 15 sampling for 5000 iterations.\n"
     ]
    },
    {
     "name": "stderr",
     "output_type": "stream",
     "text": [
      "/Users/slivka/Documents/GitHub/bnp-step/bnpsampler.py:250: RuntimeWarning: overflow encountered in exp\n",
      "  acceptance_ratio = (1 / (np.exp(exponent_prop + exponent_old))) ** (1 / temp)\n"
     ]
    },
    {
     "name": "stdout",
     "output_type": "stream",
     "text": [
      "(685, 2)\n",
      "Sampler initialized with max steps: 9 sampling for 5000 iterations.\n"
     ]
    },
    {
     "name": "stderr",
     "output_type": "stream",
     "text": [
      "/Users/slivka/Documents/GitHub/bnp-step/bnpsampler.py:250: RuntimeWarning: overflow encountered in exp\n",
      "  acceptance_ratio = (1 / (np.exp(exponent_prop + exponent_old))) ** (1 / temp)\n"
     ]
    },
    {
     "name": "stdout",
     "output_type": "stream",
     "text": [
      "(2384, 2)\n",
      "Sampler initialized with max steps: 22 sampling for 5000 iterations.\n"
     ]
    },
    {
     "name": "stderr",
     "output_type": "stream",
     "text": [
      "/Users/slivka/Documents/GitHub/bnp-step/bnpsampler.py:250: RuntimeWarning: overflow encountered in exp\n",
      "  acceptance_ratio = (1 / (np.exp(exponent_prop + exponent_old))) ** (1 / temp)\n"
     ]
    },
    {
     "name": "stdout",
     "output_type": "stream",
     "text": [
      "(1439, 2)\n",
      "Sampler initialized with max steps: 30 sampling for 5000 iterations.\n"
     ]
    },
    {
     "name": "stderr",
     "output_type": "stream",
     "text": [
      "/Users/slivka/Documents/GitHub/bnp-step/bnpsampler.py:344: RuntimeWarning: divide by zero encountered in log\n",
      "  new_log_likelihood = ((num_data / 2) * np.log(eta_vec[-1] / (2 * np.pi))) - exponent_term\n",
      "/Users/slivka/Documents/GitHub/bnp-step/bnpsampler.py:393: RuntimeWarning: divide by zero encountered in log\n",
      "  prior_eta = ((phi - 1) * np.log(eta_vec[-1])) - ((phi * eta_vec[-1]) / eta_ref) - np.log(sp.special.gamma(phi)) - \\\n",
      "/Users/slivka/Documents/GitHub/bnp-step/bnpsampler.py:399: RuntimeWarning: invalid value encountered in scalar add\n",
      "  log_posterior = log_likelihood + prior_b_m + prior_h_m + prior_t_m + prior_eta + prior_f\n",
      "/Users/slivka/Documents/GitHub/bnp-step/bnpsampler.py:250: RuntimeWarning: overflow encountered in exp\n",
      "  acceptance_ratio = (1 / (np.exp(exponent_prop + exponent_old))) ** (1 / temp)\n"
     ]
    },
    {
     "name": "stdout",
     "output_type": "stream",
     "text": [
      "(1576, 2)\n",
      "Sampler initialized with max steps: 9 sampling for 5000 iterations.\n"
     ]
    },
    {
     "name": "stderr",
     "output_type": "stream",
     "text": [
      "/Users/slivka/Documents/GitHub/bnp-step/bnpsampler.py:344: RuntimeWarning: divide by zero encountered in log\n",
      "  new_log_likelihood = ((num_data / 2) * np.log(eta_vec[-1] / (2 * np.pi))) - exponent_term\n",
      "/Users/slivka/Documents/GitHub/bnp-step/bnpsampler.py:393: RuntimeWarning: divide by zero encountered in log\n",
      "  prior_eta = ((phi - 1) * np.log(eta_vec[-1])) - ((phi * eta_vec[-1]) / eta_ref) - np.log(sp.special.gamma(phi)) - \\\n",
      "/Users/slivka/Documents/GitHub/bnp-step/bnpsampler.py:399: RuntimeWarning: invalid value encountered in scalar add\n",
      "  log_posterior = log_likelihood + prior_b_m + prior_h_m + prior_t_m + prior_eta + prior_f\n",
      "/Users/slivka/Documents/GitHub/bnp-step/bnpsampler.py:250: RuntimeWarning: overflow encountered in exp\n",
      "  acceptance_ratio = (1 / (np.exp(exponent_prop + exponent_old))) ** (1 / temp)\n"
     ]
    },
    {
     "name": "stdout",
     "output_type": "stream",
     "text": [
      "(1304, 2)\n",
      "Sampler initialized with max steps: 24 sampling for 5000 iterations.\n"
     ]
    },
    {
     "name": "stderr",
     "output_type": "stream",
     "text": [
      "/Users/slivka/Documents/GitHub/bnp-step/bnpsampler.py:344: RuntimeWarning: divide by zero encountered in log\n",
      "  new_log_likelihood = ((num_data / 2) * np.log(eta_vec[-1] / (2 * np.pi))) - exponent_term\n",
      "/Users/slivka/Documents/GitHub/bnp-step/bnpsampler.py:393: RuntimeWarning: divide by zero encountered in log\n",
      "  prior_eta = ((phi - 1) * np.log(eta_vec[-1])) - ((phi * eta_vec[-1]) / eta_ref) - np.log(sp.special.gamma(phi)) - \\\n",
      "/Users/slivka/Documents/GitHub/bnp-step/bnpsampler.py:399: RuntimeWarning: invalid value encountered in scalar add\n",
      "  log_posterior = log_likelihood + prior_b_m + prior_h_m + prior_t_m + prior_eta + prior_f\n",
      "/Users/slivka/Documents/GitHub/bnp-step/bnpsampler.py:250: RuntimeWarning: overflow encountered in exp\n",
      "  acceptance_ratio = (1 / (np.exp(exponent_prop + exponent_old))) ** (1 / temp)\n"
     ]
    },
    {
     "name": "stdout",
     "output_type": "stream",
     "text": [
      "(1332, 2)\n",
      "Sampler initialized with max steps: 3 sampling for 5000 iterations.\n"
     ]
    },
    {
     "name": "stderr",
     "output_type": "stream",
     "text": [
      "/Users/slivka/Documents/GitHub/bnp-step/bnpsampler.py:344: RuntimeWarning: divide by zero encountered in log\n",
      "  new_log_likelihood = ((num_data / 2) * np.log(eta_vec[-1] / (2 * np.pi))) - exponent_term\n",
      "/Users/slivka/Documents/GitHub/bnp-step/bnpsampler.py:393: RuntimeWarning: divide by zero encountered in log\n",
      "  prior_eta = ((phi - 1) * np.log(eta_vec[-1])) - ((phi * eta_vec[-1]) / eta_ref) - np.log(sp.special.gamma(phi)) - \\\n",
      "/Users/slivka/Documents/GitHub/bnp-step/bnpsampler.py:399: RuntimeWarning: invalid value encountered in scalar add\n",
      "  log_posterior = log_likelihood + prior_b_m + prior_h_m + prior_t_m + prior_eta + prior_f\n",
      "/Users/slivka/Documents/GitHub/bnp-step/bnpsampler.py:250: RuntimeWarning: overflow encountered in exp\n",
      "  acceptance_ratio = (1 / (np.exp(exponent_prop + exponent_old))) ** (1 / temp)\n"
     ]
    },
    {
     "name": "stdout",
     "output_type": "stream",
     "text": [
      "(2458, 2)\n",
      "Sampler initialized with max steps: 81 sampling for 5000 iterations.\n"
     ]
    },
    {
     "name": "stderr",
     "output_type": "stream",
     "text": [
      "/Users/slivka/Documents/GitHub/bnp-step/bnpsampler.py:250: RuntimeWarning: overflow encountered in exp\n",
      "  acceptance_ratio = (1 / (np.exp(exponent_prop + exponent_old))) ** (1 / temp)\n"
     ]
    },
    {
     "name": "stdout",
     "output_type": "stream",
     "text": [
      "(2725, 2)\n",
      "Sampler initialized with max steps: 21 sampling for 5000 iterations.\n"
     ]
    },
    {
     "name": "stderr",
     "output_type": "stream",
     "text": [
      "/Users/slivka/Documents/GitHub/bnp-step/bnpsampler.py:250: RuntimeWarning: overflow encountered in exp\n",
      "  acceptance_ratio = (1 / (np.exp(exponent_prop + exponent_old))) ** (1 / temp)\n"
     ]
    },
    {
     "name": "stdout",
     "output_type": "stream",
     "text": [
      "(1056, 2)\n",
      "Sampler initialized with max steps: 19 sampling for 5000 iterations.\n"
     ]
    },
    {
     "name": "stderr",
     "output_type": "stream",
     "text": [
      "/Users/slivka/Documents/GitHub/bnp-step/bnpsampler.py:250: RuntimeWarning: overflow encountered in exp\n",
      "  acceptance_ratio = (1 / (np.exp(exponent_prop + exponent_old))) ** (1 / temp)\n"
     ]
    },
    {
     "name": "stdout",
     "output_type": "stream",
     "text": [
      "(1401, 2)\n",
      "Sampler initialized with max steps: 3 sampling for 5000 iterations.\n"
     ]
    },
    {
     "name": "stderr",
     "output_type": "stream",
     "text": [
      "/Users/slivka/Documents/GitHub/bnp-step/bnpsampler.py:250: RuntimeWarning: overflow encountered in exp\n",
      "  acceptance_ratio = (1 / (np.exp(exponent_prop + exponent_old))) ** (1 / temp)\n"
     ]
    },
    {
     "name": "stdout",
     "output_type": "stream",
     "text": [
      "(911, 2)\n",
      "Sampler initialized with max steps: 15 sampling for 5000 iterations.\n"
     ]
    },
    {
     "name": "stderr",
     "output_type": "stream",
     "text": [
      "/Users/slivka/Documents/GitHub/bnp-step/bnpsampler.py:344: RuntimeWarning: divide by zero encountered in log\n",
      "  new_log_likelihood = ((num_data / 2) * np.log(eta_vec[-1] / (2 * np.pi))) - exponent_term\n",
      "/Users/slivka/Documents/GitHub/bnp-step/bnpsampler.py:393: RuntimeWarning: divide by zero encountered in log\n",
      "  prior_eta = ((phi - 1) * np.log(eta_vec[-1])) - ((phi * eta_vec[-1]) / eta_ref) - np.log(sp.special.gamma(phi)) - \\\n",
      "/Users/slivka/Documents/GitHub/bnp-step/bnpsampler.py:399: RuntimeWarning: invalid value encountered in scalar add\n",
      "  log_posterior = log_likelihood + prior_b_m + prior_h_m + prior_t_m + prior_eta + prior_f\n",
      "/Users/slivka/Documents/GitHub/bnp-step/bnpsampler.py:250: RuntimeWarning: overflow encountered in exp\n",
      "  acceptance_ratio = (1 / (np.exp(exponent_prop + exponent_old))) ** (1 / temp)\n"
     ]
    },
    {
     "name": "stdout",
     "output_type": "stream",
     "text": [
      "(933, 2)\n",
      "Sampler initialized with max steps: 6 sampling for 5000 iterations.\n"
     ]
    },
    {
     "name": "stderr",
     "output_type": "stream",
     "text": [
      "/Users/slivka/Documents/GitHub/bnp-step/bnpsampler.py:344: RuntimeWarning: divide by zero encountered in log\n",
      "  new_log_likelihood = ((num_data / 2) * np.log(eta_vec[-1] / (2 * np.pi))) - exponent_term\n",
      "/Users/slivka/Documents/GitHub/bnp-step/bnpsampler.py:393: RuntimeWarning: divide by zero encountered in log\n",
      "  prior_eta = ((phi - 1) * np.log(eta_vec[-1])) - ((phi * eta_vec[-1]) / eta_ref) - np.log(sp.special.gamma(phi)) - \\\n",
      "/Users/slivka/Documents/GitHub/bnp-step/bnpsampler.py:399: RuntimeWarning: invalid value encountered in scalar add\n",
      "  log_posterior = log_likelihood + prior_b_m + prior_h_m + prior_t_m + prior_eta + prior_f\n",
      "/Users/slivka/Documents/GitHub/bnp-step/bnpsampler.py:250: RuntimeWarning: overflow encountered in exp\n",
      "  acceptance_ratio = (1 / (np.exp(exponent_prop + exponent_old))) ** (1 / temp)\n"
     ]
    },
    {
     "name": "stdout",
     "output_type": "stream",
     "text": [
      "(1522, 2)\n",
      "Sampler initialized with max steps: 18 sampling for 5000 iterations.\n"
     ]
    },
    {
     "name": "stderr",
     "output_type": "stream",
     "text": [
      "/Users/slivka/Documents/GitHub/bnp-step/bnpsampler.py:250: RuntimeWarning: overflow encountered in exp\n",
      "  acceptance_ratio = (1 / (np.exp(exponent_prop + exponent_old))) ** (1 / temp)\n"
     ]
    },
    {
     "name": "stdout",
     "output_type": "stream",
     "text": [
      "(1546, 2)\n",
      "Sampler initialized with max steps: 9 sampling for 5000 iterations.\n"
     ]
    },
    {
     "name": "stderr",
     "output_type": "stream",
     "text": [
      "/Users/slivka/Documents/GitHub/bnp-step/bnpsampler.py:250: RuntimeWarning: overflow encountered in exp\n",
      "  acceptance_ratio = (1 / (np.exp(exponent_prop + exponent_old))) ** (1 / temp)\n"
     ]
    },
    {
     "name": "stdout",
     "output_type": "stream",
     "text": [
      "(669, 2)\n",
      "Sampler initialized with max steps: 25 sampling for 5000 iterations.\n"
     ]
    },
    {
     "name": "stderr",
     "output_type": "stream",
     "text": [
      "/Users/slivka/Documents/GitHub/bnp-step/bnpsampler.py:344: RuntimeWarning: divide by zero encountered in log\n",
      "  new_log_likelihood = ((num_data / 2) * np.log(eta_vec[-1] / (2 * np.pi))) - exponent_term\n",
      "/Users/slivka/Documents/GitHub/bnp-step/bnpsampler.py:393: RuntimeWarning: divide by zero encountered in log\n",
      "  prior_eta = ((phi - 1) * np.log(eta_vec[-1])) - ((phi * eta_vec[-1]) / eta_ref) - np.log(sp.special.gamma(phi)) - \\\n",
      "/Users/slivka/Documents/GitHub/bnp-step/bnpsampler.py:399: RuntimeWarning: invalid value encountered in scalar add\n",
      "  log_posterior = log_likelihood + prior_b_m + prior_h_m + prior_t_m + prior_eta + prior_f\n",
      "/Users/slivka/Documents/GitHub/bnp-step/bnpsampler.py:250: RuntimeWarning: overflow encountered in exp\n",
      "  acceptance_ratio = (1 / (np.exp(exponent_prop + exponent_old))) ** (1 / temp)\n"
     ]
    },
    {
     "name": "stdout",
     "output_type": "stream",
     "text": [
      "(708, 2)\n",
      "Sampler initialized with max steps: 9 sampling for 5000 iterations.\n"
     ]
    },
    {
     "name": "stderr",
     "output_type": "stream",
     "text": [
      "/Users/slivka/Documents/GitHub/bnp-step/bnpsampler.py:344: RuntimeWarning: divide by zero encountered in log\n",
      "  new_log_likelihood = ((num_data / 2) * np.log(eta_vec[-1] / (2 * np.pi))) - exponent_term\n",
      "/Users/slivka/Documents/GitHub/bnp-step/bnpsampler.py:393: RuntimeWarning: divide by zero encountered in log\n",
      "  prior_eta = ((phi - 1) * np.log(eta_vec[-1])) - ((phi * eta_vec[-1]) / eta_ref) - np.log(sp.special.gamma(phi)) - \\\n",
      "/Users/slivka/Documents/GitHub/bnp-step/bnpsampler.py:399: RuntimeWarning: invalid value encountered in scalar add\n",
      "  log_posterior = log_likelihood + prior_b_m + prior_h_m + prior_t_m + prior_eta + prior_f\n",
      "/Users/slivka/Documents/GitHub/bnp-step/bnpsampler.py:250: RuntimeWarning: overflow encountered in exp\n",
      "  acceptance_ratio = (1 / (np.exp(exponent_prop + exponent_old))) ** (1 / temp)\n"
     ]
    },
    {
     "name": "stdout",
     "output_type": "stream",
     "text": [
      "(536, 2)\n",
      "Sampler initialized with max steps: 16 sampling for 5000 iterations.\n"
     ]
    },
    {
     "name": "stderr",
     "output_type": "stream",
     "text": [
      "/Users/slivka/Documents/GitHub/bnp-step/bnpsampler.py:250: RuntimeWarning: overflow encountered in exp\n",
      "  acceptance_ratio = (1 / (np.exp(exponent_prop + exponent_old))) ** (1 / temp)\n"
     ]
    },
    {
     "name": "stdout",
     "output_type": "stream",
     "text": [
      "(1314, 2)\n",
      "Sampler initialized with max steps: 6 sampling for 5000 iterations.\n"
     ]
    },
    {
     "name": "stderr",
     "output_type": "stream",
     "text": [
      "/Users/slivka/Documents/GitHub/bnp-step/bnpsampler.py:344: RuntimeWarning: divide by zero encountered in log\n",
      "  new_log_likelihood = ((num_data / 2) * np.log(eta_vec[-1] / (2 * np.pi))) - exponent_term\n",
      "/Users/slivka/Documents/GitHub/bnp-step/bnpsampler.py:393: RuntimeWarning: divide by zero encountered in log\n",
      "  prior_eta = ((phi - 1) * np.log(eta_vec[-1])) - ((phi * eta_vec[-1]) / eta_ref) - np.log(sp.special.gamma(phi)) - \\\n",
      "/Users/slivka/Documents/GitHub/bnp-step/bnpsampler.py:399: RuntimeWarning: invalid value encountered in scalar add\n",
      "  log_posterior = log_likelihood + prior_b_m + prior_h_m + prior_t_m + prior_eta + prior_f\n",
      "/Users/slivka/Documents/GitHub/bnp-step/bnpsampler.py:250: RuntimeWarning: overflow encountered in exp\n",
      "  acceptance_ratio = (1 / (np.exp(exponent_prop + exponent_old))) ** (1 / temp)\n"
     ]
    },
    {
     "name": "stdout",
     "output_type": "stream",
     "text": [
      "(2231, 2)\n",
      "Sampler initialized with max steps: 52 sampling for 5000 iterations.\n"
     ]
    },
    {
     "name": "stderr",
     "output_type": "stream",
     "text": [
      "/Users/slivka/Documents/GitHub/bnp-step/bnpsampler.py:344: RuntimeWarning: divide by zero encountered in log\n",
      "  new_log_likelihood = ((num_data / 2) * np.log(eta_vec[-1] / (2 * np.pi))) - exponent_term\n",
      "/Users/slivka/Documents/GitHub/bnp-step/bnpsampler.py:393: RuntimeWarning: divide by zero encountered in log\n",
      "  prior_eta = ((phi - 1) * np.log(eta_vec[-1])) - ((phi * eta_vec[-1]) / eta_ref) - np.log(sp.special.gamma(phi)) - \\\n",
      "/Users/slivka/Documents/GitHub/bnp-step/bnpsampler.py:399: RuntimeWarning: invalid value encountered in scalar add\n",
      "  log_posterior = log_likelihood + prior_b_m + prior_h_m + prior_t_m + prior_eta + prior_f\n",
      "/Users/slivka/Documents/GitHub/bnp-step/bnpsampler.py:250: RuntimeWarning: overflow encountered in exp\n",
      "  acceptance_ratio = (1 / (np.exp(exponent_prop + exponent_old))) ** (1 / temp)\n"
     ]
    },
    {
     "name": "stdout",
     "output_type": "stream",
     "text": [
      "(2305, 2)\n",
      "Sampler initialized with max steps: 7 sampling for 5000 iterations.\n"
     ]
    },
    {
     "name": "stderr",
     "output_type": "stream",
     "text": [
      "/Users/slivka/Documents/GitHub/bnp-step/bnpsampler.py:250: RuntimeWarning: overflow encountered in exp\n",
      "  acceptance_ratio = (1 / (np.exp(exponent_prop + exponent_old))) ** (1 / temp)\n"
     ]
    },
    {
     "name": "stdout",
     "output_type": "stream",
     "text": [
      "(469, 2)\n",
      "Sampler initialized with max steps: 13 sampling for 5000 iterations.\n"
     ]
    },
    {
     "name": "stderr",
     "output_type": "stream",
     "text": [
      "/Users/slivka/Documents/GitHub/bnp-step/bnpsampler.py:250: RuntimeWarning: overflow encountered in exp\n",
      "  acceptance_ratio = (1 / (np.exp(exponent_prop + exponent_old))) ** (1 / temp)\n"
     ]
    },
    {
     "name": "stdout",
     "output_type": "stream",
     "text": [
      "(674, 2)\n",
      "Sampler initialized with max steps: 3 sampling for 5000 iterations.\n",
      "(718, 2)\n",
      "Sampler initialized with max steps: 12 sampling for 5000 iterations.\n"
     ]
    },
    {
     "name": "stderr",
     "output_type": "stream",
     "text": [
      "/Users/slivka/Documents/GitHub/bnp-step/bnpsampler.py:250: RuntimeWarning: overflow encountered in exp\n",
      "  acceptance_ratio = (1 / (np.exp(exponent_prop + exponent_old))) ** (1 / temp)\n"
     ]
    },
    {
     "name": "stdout",
     "output_type": "stream",
     "text": [
      "(1457, 2)\n",
      "Sampler initialized with max steps: 3 sampling for 5000 iterations.\n"
     ]
    },
    {
     "name": "stderr",
     "output_type": "stream",
     "text": [
      "/Users/slivka/Documents/GitHub/bnp-step/bnpsampler.py:250: RuntimeWarning: overflow encountered in exp\n",
      "  acceptance_ratio = (1 / (np.exp(exponent_prop + exponent_old))) ** (1 / temp)\n"
     ]
    },
    {
     "name": "stdout",
     "output_type": "stream",
     "text": [
      "(1610, 2)\n",
      "Sampler initialized with max steps: 3 sampling for 5000 iterations.\n"
     ]
    },
    {
     "name": "stderr",
     "output_type": "stream",
     "text": [
      "/Users/slivka/Documents/GitHub/bnp-step/bnpsampler.py:250: RuntimeWarning: overflow encountered in exp\n",
      "  acceptance_ratio = (1 / (np.exp(exponent_prop + exponent_old))) ** (1 / temp)\n"
     ]
    },
    {
     "name": "stdout",
     "output_type": "stream",
     "text": [
      "(839, 2)\n",
      "Sampler initialized with max steps: 4 sampling for 5000 iterations.\n"
     ]
    },
    {
     "name": "stderr",
     "output_type": "stream",
     "text": [
      "/Users/slivka/Documents/GitHub/bnp-step/bnpsampler.py:344: RuntimeWarning: divide by zero encountered in log\n",
      "  new_log_likelihood = ((num_data / 2) * np.log(eta_vec[-1] / (2 * np.pi))) - exponent_term\n",
      "/Users/slivka/Documents/GitHub/bnp-step/bnpsampler.py:393: RuntimeWarning: divide by zero encountered in log\n",
      "  prior_eta = ((phi - 1) * np.log(eta_vec[-1])) - ((phi * eta_vec[-1]) / eta_ref) - np.log(sp.special.gamma(phi)) - \\\n",
      "/Users/slivka/Documents/GitHub/bnp-step/bnpsampler.py:399: RuntimeWarning: invalid value encountered in scalar add\n",
      "  log_posterior = log_likelihood + prior_b_m + prior_h_m + prior_t_m + prior_eta + prior_f\n",
      "/Users/slivka/Documents/GitHub/bnp-step/bnpsampler.py:250: RuntimeWarning: overflow encountered in exp\n",
      "  acceptance_ratio = (1 / (np.exp(exponent_prop + exponent_old))) ** (1 / temp)\n"
     ]
    },
    {
     "name": "stdout",
     "output_type": "stream",
     "text": [
      "(512, 2)\n",
      "Sampler initialized with max steps: 4 sampling for 5000 iterations.\n"
     ]
    },
    {
     "name": "stderr",
     "output_type": "stream",
     "text": [
      "/Users/slivka/Documents/GitHub/bnp-step/bnpsampler.py:250: RuntimeWarning: overflow encountered in exp\n",
      "  acceptance_ratio = (1 / (np.exp(exponent_prop + exponent_old))) ** (1 / temp)\n"
     ]
    },
    {
     "name": "stdout",
     "output_type": "stream",
     "text": [
      "(347, 2)\n",
      "Sampler initialized with max steps: 6 sampling for 5000 iterations.\n"
     ]
    },
    {
     "name": "stderr",
     "output_type": "stream",
     "text": [
      "/Users/slivka/Documents/GitHub/bnp-step/bnpsampler.py:250: RuntimeWarning: overflow encountered in exp\n",
      "  acceptance_ratio = (1 / (np.exp(exponent_prop + exponent_old))) ** (1 / temp)\n"
     ]
    },
    {
     "name": "stdout",
     "output_type": "stream",
     "text": [
      "(1429, 2)\n",
      "Sampler initialized with max steps: 7 sampling for 5000 iterations.\n"
     ]
    },
    {
     "name": "stderr",
     "output_type": "stream",
     "text": [
      "/Users/slivka/Documents/GitHub/bnp-step/bnpsampler.py:344: RuntimeWarning: divide by zero encountered in log\n",
      "  new_log_likelihood = ((num_data / 2) * np.log(eta_vec[-1] / (2 * np.pi))) - exponent_term\n",
      "/Users/slivka/Documents/GitHub/bnp-step/bnpsampler.py:393: RuntimeWarning: divide by zero encountered in log\n",
      "  prior_eta = ((phi - 1) * np.log(eta_vec[-1])) - ((phi * eta_vec[-1]) / eta_ref) - np.log(sp.special.gamma(phi)) - \\\n",
      "/Users/slivka/Documents/GitHub/bnp-step/bnpsampler.py:399: RuntimeWarning: invalid value encountered in scalar add\n",
      "  log_posterior = log_likelihood + prior_b_m + prior_h_m + prior_t_m + prior_eta + prior_f\n",
      "/Users/slivka/Documents/GitHub/bnp-step/bnpsampler.py:250: RuntimeWarning: overflow encountered in exp\n",
      "  acceptance_ratio = (1 / (np.exp(exponent_prop + exponent_old))) ** (1 / temp)\n"
     ]
    },
    {
     "name": "stdout",
     "output_type": "stream",
     "text": [
      "(1978, 2)\n",
      "Sampler initialized with max steps: 9 sampling for 5000 iterations.\n"
     ]
    },
    {
     "name": "stderr",
     "output_type": "stream",
     "text": [
      "/Users/slivka/Documents/GitHub/bnp-step/bnpsampler.py:250: RuntimeWarning: overflow encountered in exp\n",
      "  acceptance_ratio = (1 / (np.exp(exponent_prop + exponent_old))) ** (1 / temp)\n"
     ]
    }
   ],
   "source": [
    "# now run and save all results to load in later for the trace short-axis\n",
    "\n",
    "for i in range(len(file_paths)):\n",
    "    matdata = scipy.io.loadmat(file_paths[i], squeeze_me=False, struct_as_record=True)\n",
    "    p = Path(file_paths[i])\n",
    "\n",
    "    # print(matdata['data'].dtype)\n",
    "    data_struct = matdata['data'][0, 0]  # Extract the struct instance\n",
    "    # for name in matdata['data'].dtype.names:\n",
    "    #     field = data_struct[name]\n",
    "    #     print(f\"{name}: type = {type(field)}, shape = {getattr(field, 'shape', None)}\")\n",
    "\n",
    "    # for name in matdata['data'].dtype.names:\n",
    "    #     print(name, data_struct[name])\n",
    "\n",
    "    # Write a csv to load data, then immediately delete\n",
    "    # Remove Nan's they don't need to be there\n",
    "    data_struct['time'] = data_struct['time'][~np.isnan(data_struct['time'])]\n",
    "    data_struct['trace_yx'] = data_struct['trace_yx'][~np.isnan(data_struct['trace_yx'][:,0])]\n",
    "    \n",
    "    t_trace_arr = np.array([data_struct['time'].reshape(len(data_struct['time']),1).flatten(), data_struct['trace_yx'][:,0].reshape(len(data_struct['time']),1).flatten()])    \n",
    "    # t_trace_arr = t_trace_arr.reshape(len(data_struct['time']),2)\n",
    "    t_trace_arr = t_trace_arr.transpose()\n",
    "    print(t_trace_arr.shape)\n",
    "    np.savetxt(str(p.parent)+'/'+p.stem+'_yx_tempdata.csv', t_trace_arr, delimiter=',')\n",
    "\n",
    "    # Initialize the data with the sampler with about twice as many steps as the user found\n",
    "    A = data_struct['trace_yx'][:,2]\n",
    "    estimated_steps = np.sum(np.roll(A,1)!=A)\n",
    "    if estimated_steps > 128/1.5:\n",
    "        print('skipping', p.stem, 'for too many steps')\n",
    "    else:\n",
    "        sampler = bnp.BNPStep(B_max=int(2*estimated_steps))\n",
    "        sampler.load_data(str(p.parent)+'/'+p.stem+'_yx_tempdata.csv', has_timepoints=True)\n",
    "\n",
    "        # if os.path.exists('tests/tempdata.csv'):\n",
    "        #     os.remove('tests/tempdata.csv')\n",
    "        #     print(\"File deleted.\")\n",
    "        # else:\n",
    "        #     print(\"File not found.\")\n",
    "\n",
    "        # Now find the steps\n",
    "        print(\"Sampler initialized with max steps:\", int(1.5*estimated_steps), \"sampling for 5000 iterations.\")\n",
    "        sampler.analyze(num_samples=5000)\n",
    "        sampler.results_to_file(outfile=str(p.parent)+'/'+p.stem+'_trial_sample_yx')\n",
    "        # sampler.visualize_results(plot_type='step')\n",
    "\n",
    "        # change the trace fit after we did the new fitting\n",
    "        new_steps = sampler.export_step_data()\n",
    "        data_struct['trace_yx'][:,2] = np.reshape(new_steps, data_struct['trace_yx'][:,2].shape)\n",
    "\n",
    "        # Now build the dictionary again and rewrite it to the new filename\n",
    "        # Build the dictionary dynamically\n",
    "        new_filename = insert_before_pattern(file_paths[i], \"_bnpstep\", \"_fiona\")\n",
    "        rewritematdata = {'data': {}}\n",
    "\n",
    "        for name in matdata['data'].dtype.names:\n",
    "            rewritematdata['data'][name] = data_struct[name]\n",
    "\n",
    "        scipy.io.savemat(new_filename, rewritematdata)\n",
    "    "
   ]
  },
  {
   "cell_type": "markdown",
   "id": "c7216f55",
   "metadata": {},
   "source": [
    "## Visualization of data with python (Not operational with current setup)"
   ]
  },
  {
   "cell_type": "code",
   "execution_count": 46,
   "id": "6cac5401",
   "metadata": {},
   "outputs": [
    {
     "data": {
      "image/png": "[encoded data removed]",
      "text/plain": [
       "<Figure size 640x480 with 2 Axes>"
      ]
     },
     "metadata": {},
     "output_type": "display_data"
    }
   ],
   "source": [
    "rootdir1 = 'C:/Users/Yildiz Lab/Desktop/BNP/Stier v2/'\n",
    "rootdir2 = 'C:/Users/Yildiz Lab/Desktop/BN/Stier v2/'\n",
    "# sampler = bnp.BNPStep(B_max=122)\n",
    "sampler.load_data(str(p.parent)+'/241113-01-100126_47094_fiona_tempdata.csv', has_timepoints=True)\n",
    "sampler.results_from_file(filename=rootdir1+'241113-01-100126_47094_fiona_trial_sample')\n",
    "sampler.visualize_results(plot_type='step')"
   ]
  },
  {
   "cell_type": "code",
   "execution_count": 17,
   "id": "8c987951",
   "metadata": {},
   "outputs": [
    {
     "data": {
      "image/png": "[encoded data removed]",
      "text/plain": [
       "<Figure size 640x480 with 2 Axes>"
      ]
     },
     "metadata": {},
     "output_type": "display_data"
    }
   ],
   "source": [
    "sampler.results_from_file(filename='/Users/slivka/Documents/University of California/Research/2Color/79469_fiona_trial_sample')\n",
    "sampler.visualize_results(plot_type='step')"
   ]
  },
  {
   "cell_type": "code",
   "execution_count": 18,
   "id": "1e0594ee",
   "metadata": {},
   "outputs": [
    {
     "data": {
      "image/png": "[encoded data removed]",
      "text/plain": [
       "<Figure size 640x480 with 3 Axes>"
      ]
     },
     "metadata": {},
     "output_type": "display_data"
    }
   ],
   "source": [
    "sampler.visualize_results(plot_type='hist_step_height')"
   ]
  },
  {
   "cell_type": "code",
   "execution_count": null,
   "id": "4b5c2a7e",
   "metadata": {},
   "outputs": [],
   "source": []
  }
 ],
 "metadata": {
  "kernelspec": {
   "display_name": "Python 3 (ipykernel)",
   "language": "python",
   "name": "python3"
  },
  "language_info": {
   "codemirror_mode": {
    "name": "ipython",
    "version": 3
   },
   "file_extension": ".py",
   "mimetype": "text/x-python",
   "name": "python",
   "nbconvert_exporter": "python",
   "pygments_lexer": "ipython3",
   "version": "3.11.7"
  }
 },
 "nbformat": 4,
 "nbformat_minor": 5
}
